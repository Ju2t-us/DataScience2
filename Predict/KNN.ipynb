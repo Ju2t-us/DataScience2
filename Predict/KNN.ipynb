{
 "cells": [
  {
   "cell_type": "code",
   "execution_count": 1,
   "id": "04b67541",
   "metadata": {},
   "outputs": [],
   "source": [
    "import pandas as pd\n",
    "import numpy as np\n",
    "from sklearn.model_selection import train_test_split\n",
    "from sklearn.metrics import accuracy_score"
   ]
  },
  {
   "cell_type": "code",
   "execution_count": 2,
   "id": "6b9f699e",
   "metadata": {},
   "outputs": [],
   "source": [
    "# Read and preprocess the dataset\n",
    "df = pd.read_csv(\"crime.csv\")\n",
    "df['Dates'] = pd.to_datetime(df['Dates'])\n",
    "df['Year'] = df['Dates'].dt.year\n",
    "df['Month'] = df['Dates'].dt.month\n",
    "df['Day'] = df['Dates'].dt.day\n",
    "df['Hour'] = df['Dates'].dt.hour\n",
    "df['Minute'] = df['Dates'].dt.minute\n",
    "df['Second'] = df['Dates'].dt.second\n",
    "df = df.drop(['Dates', 'Resolution', 'Descript', 'Address'], axis=1)\n",
    "df = pd.get_dummies(df, columns=['DayOfWeek', 'PdDistrict'])\n",
    "\n",
    "# Sample a portion of the dataset\n",
    "df = df.sample(frac=0.01, random_state=42)"
   ]
  },
  {
   "cell_type": "code",
   "execution_count": 3,
   "id": "babd6819",
   "metadata": {},
   "outputs": [],
   "source": [
    "# Separate features and target variable\n",
    "y = df['Category']\n",
    "X = df.drop('Category', axis=1)"
   ]
  },
  {
   "cell_type": "code",
   "execution_count": 4,
   "id": "5df8aa0a",
   "metadata": {},
   "outputs": [],
   "source": [
    "# Split the data into training and testing sets\n",
    "X_train, X_test, y_train, y_test = train_test_split(X, y, test_size=0.8, random_state=42)"
   ]
  },
  {
   "cell_type": "code",
   "execution_count": 5,
   "id": "bf4bf14f",
   "metadata": {},
   "outputs": [],
   "source": [
    "# Define the KNN class\n",
    "class KNN:\n",
    "    def __init__(self, k):\n",
    "        self.k = k\n",
    "    \n",
    "    def fit(self, X_train, y_train):\n",
    "        self.X_train = X_train\n",
    "        self.y_train = y_train\n",
    "    \n",
    "    def predict(self, X_test):\n",
    "        y_pred = np.empty(X_test.shape[0], dtype=object)\n",
    "        for i in range(X_test.shape[0]):\n",
    "            distances = np.sqrt(np.sum((self.X_train - X_test[i])**2, axis=1))\n",
    "            nearest_indices = np.argsort(distances)[:self.k]\n",
    "            nearest_labels = pd.Series(self.y_train).iloc[nearest_indices]\n",
    "            y_pred[i] = nearest_labels.mode()[0]\n",
    "        return y_pred"
   ]
  },
  {
   "cell_type": "code",
   "execution_count": 6,
   "id": "9cda612b",
   "metadata": {},
   "outputs": [],
   "source": [
    "# Define the range of k values to try\n",
    "start_k = 1\n",
    "end_k = 1000"
   ]
  },
  {
   "cell_type": "code",
   "execution_count": 7,
   "id": "22488322",
   "metadata": {},
   "outputs": [],
   "source": [
    "# Track the highest accuracy and its corresponding k value\n",
    "best_accuracy = 0\n",
    "best_k = None"
   ]
  },
  {
   "cell_type": "code",
   "execution_count": 8,
   "id": "ccb8969e",
   "metadata": {},
   "outputs": [],
   "source": [
    "# Iterate over different values of k\n",
    "for k in range(start_k, end_k + 1):\n",
    "    # Instantiate and train the KNN model\n",
    "    knn = KNN(k=k)\n",
    "    knn.fit(X_train.values, y_train.values)\n",
    "    \n",
    "    # Make predictions\n",
    "    predictions = knn.predict(X_test.values)\n",
    "    \n",
    "    # Calculate accuracy\n",
    "    accuracy = accuracy_score(y_test, predictions)\n",
    "    \n",
    "    # Update the best accuracy and k value if needed\n",
    "    if accuracy > best_accuracy:\n",
    "        best_accuracy = accuracy\n",
    "        best_k = k"
   ]
  },
  {
   "cell_type": "code",
   "execution_count": 9,
   "id": "d54e1053",
   "metadata": {},
   "outputs": [
    {
     "name": "stdout",
     "output_type": "stream",
     "text": [
      "Highest accuracy: 0.21127562642369022\n",
      "Corresponding k value: 50\n"
     ]
    }
   ],
   "source": [
    "# Output the highest accuracy and its corresponding k value\n",
    "print(\"Highest accuracy:\", best_accuracy)\n",
    "print(\"Corresponding k value:\", best_k)"
   ]
  }
 ],
 "metadata": {
  "kernelspec": {
   "display_name": "Python 3 (ipykernel)",
   "language": "python",
   "name": "python3"
  },
  "language_info": {
   "codemirror_mode": {
    "name": "ipython",
    "version": 3
   },
   "file_extension": ".py",
   "mimetype": "text/x-python",
   "name": "python",
   "nbconvert_exporter": "python",
   "pygments_lexer": "ipython3",
   "version": "3.9.13"
  }
 },
 "nbformat": 4,
 "nbformat_minor": 5
}
