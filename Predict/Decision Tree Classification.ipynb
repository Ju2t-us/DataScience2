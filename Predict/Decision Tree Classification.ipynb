{
 "cells": [
  {
   "cell_type": "code",
   "execution_count": 1,
   "id": "86227665",
   "metadata": {},
   "outputs": [],
   "source": [
    "import pandas as pd\n",
    "from sklearn.model_selection import train_test_split\n",
    "from sklearn.feature_extraction.text import TfidfVectorizer\n",
    "from sklearn.tree import DecisionTreeClassifier\n",
    "from sklearn.metrics import classification_report"
   ]
  },
  {
   "cell_type": "code",
   "execution_count": 2,
   "id": "3f4779d4",
   "metadata": {},
   "outputs": [],
   "source": [
    "# Load the dataset (assuming the dataset is stored in a DataFrame called 'data')\n",
    "# Replace 'data.csv' with the actual file path\n",
    "data = pd.read_csv('crime.csv')"
   ]
  },
  {
   "cell_type": "code",
   "execution_count": 3,
   "id": "ab5bb8a0",
   "metadata": {},
   "outputs": [],
   "source": [
    "# Sample 1% of the dataset\n",
    "sampled_data = data.sample(frac=0.01, random_state=42)"
   ]
  },
  {
   "cell_type": "code",
   "execution_count": 4,
   "id": "c30e9eec",
   "metadata": {},
   "outputs": [],
   "source": [
    "# Split the data into features (X) and target variable (y)\n",
    "X = sampled_data['Descript']\n",
    "y = sampled_data['Category']"
   ]
  },
  {
   "cell_type": "code",
   "execution_count": 5,
   "id": "b35bddaa",
   "metadata": {},
   "outputs": [],
   "source": [
    "# Split the data into training and testing sets\n",
    "X_train, X_test, y_train, y_test = train_test_split(X, y, test_size=0.2, random_state=42)"
   ]
  },
  {
   "cell_type": "code",
   "execution_count": 6,
   "id": "e8ee3a85",
   "metadata": {},
   "outputs": [],
   "source": [
    "# Vectorize the text data using TF-IDF vectorizer\n",
    "vectorizer = TfidfVectorizer(max_features=1000)  # Adjust max_features as needed\n",
    "X_train_vec = vectorizer.fit_transform(X_train)\n",
    "X_test_vec = vectorizer.transform(X_test)"
   ]
  },
  {
   "cell_type": "code",
   "execution_count": 7,
   "id": "aa2e9964",
   "metadata": {},
   "outputs": [
    {
     "data": {
      "text/plain": [
       "DecisionTreeClassifier()"
      ]
     },
     "execution_count": 7,
     "metadata": {},
     "output_type": "execute_result"
    }
   ],
   "source": [
    "# Train a decision tree classifier\n",
    "clf = DecisionTreeClassifier()\n",
    "clf.fit(X_train_vec, y_train)"
   ]
  },
  {
   "cell_type": "code",
   "execution_count": 8,
   "id": "5da99435",
   "metadata": {},
   "outputs": [
    {
     "name": "stdout",
     "output_type": "stream",
     "text": [
      "                             precision    recall  f1-score   support\n",
      "\n",
      "                    ASSAULT       1.00      0.99      0.99       147\n",
      "                 BAD CHECKS       0.75      1.00      0.86         3\n",
      "                   BURGLARY       1.00      1.00      1.00        76\n",
      "         DISORDERLY CONDUCT       1.00      1.00      1.00        10\n",
      "DRIVING UNDER THE INFLUENCE       1.00      1.00      1.00         7\n",
      "              DRUG/NARCOTIC       0.98      0.99      0.99       111\n",
      "                DRUNKENNESS       1.00      1.00      1.00        16\n",
      "            FAMILY OFFENSES       0.00      0.00      0.00         2\n",
      "     FORGERY/COUNTERFEITING       1.00      0.95      0.98        21\n",
      "                      FRAUD       1.00      1.00      1.00        31\n",
      "                 KIDNAPPING       0.83      1.00      0.91         5\n",
      "              LARCENY/THEFT       1.00      1.00      1.00       334\n",
      "                LIQUOR LAWS       1.00      1.00      1.00         1\n",
      "                  LOITERING       1.00      1.00      1.00         4\n",
      "             MISSING PERSON       1.00      1.00      1.00        51\n",
      "               NON-CRIMINAL       0.99      1.00      1.00       188\n",
      "             OTHER OFFENSES       0.99      1.00      0.99       254\n",
      "               PROSTITUTION       1.00      0.92      0.96        12\n",
      "          RECOVERED VEHICLE       0.29      1.00      0.44         2\n",
      "                    ROBBERY       1.00      1.00      1.00        47\n",
      "                    RUNAWAY       1.00      1.00      1.00         6\n",
      "            SECONDARY CODES       1.00      1.00      1.00        24\n",
      "      SEX OFFENSES FORCIBLE       1.00      1.00      1.00         8\n",
      "            STOLEN PROPERTY       1.00      0.91      0.95        11\n",
      "             SUSPICIOUS OCC       1.00      1.00      1.00        67\n",
      "                   TRESPASS       1.00      1.00      1.00        17\n",
      "                  VANDALISM       1.00      1.00      1.00       102\n",
      "              VEHICLE THEFT       0.99      0.95      0.97       105\n",
      "                   WARRANTS       1.00      1.00      1.00        83\n",
      "                WEAPON LAWS       1.00      1.00      1.00        11\n",
      "\n",
      "                   accuracy                           0.99      1756\n",
      "                  macro avg       0.93      0.96      0.93      1756\n",
      "               weighted avg       0.99      0.99      0.99      1756\n",
      "\n"
     ]
    },
    {
     "name": "stderr",
     "output_type": "stream",
     "text": [
      "C:\\ProgramData\\Anaconda3\\lib\\site-packages\\sklearn\\metrics\\_classification.py:1318: UndefinedMetricWarning: Precision and F-score are ill-defined and being set to 0.0 in labels with no predicted samples. Use `zero_division` parameter to control this behavior.\n",
      "  _warn_prf(average, modifier, msg_start, len(result))\n",
      "C:\\ProgramData\\Anaconda3\\lib\\site-packages\\sklearn\\metrics\\_classification.py:1318: UndefinedMetricWarning: Precision and F-score are ill-defined and being set to 0.0 in labels with no predicted samples. Use `zero_division` parameter to control this behavior.\n",
      "  _warn_prf(average, modifier, msg_start, len(result))\n",
      "C:\\ProgramData\\Anaconda3\\lib\\site-packages\\sklearn\\metrics\\_classification.py:1318: UndefinedMetricWarning: Precision and F-score are ill-defined and being set to 0.0 in labels with no predicted samples. Use `zero_division` parameter to control this behavior.\n",
      "  _warn_prf(average, modifier, msg_start, len(result))\n"
     ]
    }
   ],
   "source": [
    "# Evaluate the model\n",
    "y_pred = clf.predict(X_test_vec)\n",
    "print(classification_report(y_test, y_pred))"
   ]
  },
  {
   "cell_type": "code",
   "execution_count": 9,
   "id": "77e8515e",
   "metadata": {},
   "outputs": [
    {
     "name": "stdout",
     "output_type": "stream",
     "text": [
      "Predicted category: ['ROBBERY']\n"
     ]
    }
   ],
   "source": [
    "# Example prediction\n",
    "new_description = [\"Robbery at main street\"]\n",
    "new_description_vec = vectorizer.transform(new_description)\n",
    "predicted_category = clf.predict(new_description_vec)\n",
    "print(\"Predicted category:\", predicted_category)"
   ]
  },
  {
   "cell_type": "code",
   "execution_count": null,
   "id": "449da060",
   "metadata": {},
   "outputs": [],
   "source": []
  }
 ],
 "metadata": {
  "kernelspec": {
   "display_name": "Python 3 (ipykernel)",
   "language": "python",
   "name": "python3"
  },
  "language_info": {
   "codemirror_mode": {
    "name": "ipython",
    "version": 3
   },
   "file_extension": ".py",
   "mimetype": "text/x-python",
   "name": "python",
   "nbconvert_exporter": "python",
   "pygments_lexer": "ipython3",
   "version": "3.9.13"
  }
 },
 "nbformat": 4,
 "nbformat_minor": 5
}
