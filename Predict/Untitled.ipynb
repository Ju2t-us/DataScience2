{
 "cells": [
  {
   "cell_type": "code",
   "execution_count": 1,
   "id": "af89dd23",
   "metadata": {},
   "outputs": [],
   "source": [
    "import pandas as pd\n",
    "import numpy as np\n",
    "\n",
    "# Load the dataset\n",
    "data = pd.read_csv('crime.csv')\n",
    "\n",
    "# Sample 1% of the dataset\n",
    "data_sampled = data.sample(frac=0.01, random_state=42)"
   ]
  },
  {
   "cell_type": "code",
   "execution_count": 2,
   "id": "4caa5fb4",
   "metadata": {},
   "outputs": [],
   "source": [
    "# Preprocessing function\n",
    "def preprocess_text(text):\n",
    "    text = text.lower()\n",
    "    text = ''.join([char for char in text if char.isalnum() or char.isspace()])\n",
    "    return text.split()\n",
    "\n",
    "# Preprocess the Descript column\n",
    "data_sampled['Descript'] = data_sampled['Descript'].apply(preprocess_text)"
   ]
  },
  {
   "cell_type": "code",
   "execution_count": 3,
   "id": "94c451b9",
   "metadata": {},
   "outputs": [],
   "source": [
    "# Split the data into train and test sets\n",
    "train_size = int(0.8 * len(data_sampled))\n",
    "train_data = data_sampled[:train_size]\n",
    "test_data = data_sampled[train_size:]"
   ]
  },
  {
   "cell_type": "code",
   "execution_count": 4,
   "id": "416a1af8",
   "metadata": {},
   "outputs": [],
   "source": [
    "# Calculate prior probabilities\n",
    "prior_probs = train_data['Category'].value_counts(normalize=True)\n",
    "\n",
    "# Calculate likelihoods with Laplace smoothing\n",
    "word_counts = {category: {} for category in train_data['Category'].unique()}\n",
    "total_words = {category: 0 for category in train_data['Category'].unique()}"
   ]
  },
  {
   "cell_type": "code",
   "execution_count": 5,
   "id": "ba74df0f",
   "metadata": {},
   "outputs": [],
   "source": [
    "for index, row in train_data.iterrows():\n",
    "    category = row['Category']\n",
    "    for word in row['Descript']:\n",
    "        word_counts[category][word] = word_counts[category].get(word, 0) + 1\n",
    "        total_words[category] += 1"
   ]
  },
  {
   "cell_type": "code",
   "execution_count": 6,
   "id": "68e4df78",
   "metadata": {},
   "outputs": [],
   "source": [
    "# Train the Naive Bayes model\n",
    "class NaiveBayesClassifier:\n",
    "    def __init__(self, prior_probs, word_counts, total_words):\n",
    "        self.prior_probs = prior_probs\n",
    "        self.word_counts = word_counts\n",
    "        self.total_words = total_words\n",
    "\n",
    "    def predict(self, description):\n",
    "        log_probs = {category: np.log(self.prior_probs[category]) for category in self.prior_probs.index}\n",
    "        for word in description:\n",
    "            for category in self.word_counts.keys():\n",
    "                log_probs[category] += np.log((self.word_counts[category].get(word, 0) + 1) / (self.total_words[category] + len(self.word_counts[category])))\n",
    "        return max(log_probs, key=log_probs.get)"
   ]
  },
  {
   "cell_type": "code",
   "execution_count": 7,
   "id": "c197b1ad",
   "metadata": {},
   "outputs": [],
   "source": [
    "# Instantiate the Naive Bayes model\n",
    "nb_model = NaiveBayesClassifier(prior_probs, word_counts, total_words)"
   ]
  },
  {
   "cell_type": "code",
   "execution_count": 8,
   "id": "c5dc2419",
   "metadata": {},
   "outputs": [],
   "source": [
    "# Predict on the test set\n",
    "predictions = test_data['Descript'].apply(nb_model.predict)"
   ]
  },
  {
   "cell_type": "code",
   "execution_count": 9,
   "id": "8dae5e18",
   "metadata": {},
   "outputs": [
    {
     "name": "stdout",
     "output_type": "stream",
     "text": [
      "Accuracy: 0.791002277904328\n"
     ]
    }
   ],
   "source": [
    "# Calculate accuracy\n",
    "accuracy = (predictions == test_data['Category']).mean()\n",
    "print(\"Accuracy:\", accuracy)"
   ]
  },
  {
   "cell_type": "code",
   "execution_count": 16,
   "id": "6072916c",
   "metadata": {},
   "outputs": [
    {
     "name": "stdout",
     "output_type": "stream",
     "text": [
      "Predicted crime: EXTORTION\n"
     ]
    }
   ],
   "source": [
    "# Predict the type of crime associated with the example description\n",
    "example_description = \"Printing fraudelent cash\"\n",
    "example_tokens = preprocess_text(example_description)\n",
    "predicted_crime = nb_model.predict(example_tokens)\n",
    "print(\"Predicted crime:\", predicted_crime)"
   ]
  },
  {
   "cell_type": "code",
   "execution_count": null,
   "id": "5dca15ad",
   "metadata": {},
   "outputs": [],
   "source": []
  }
 ],
 "metadata": {
  "kernelspec": {
   "display_name": "Python 3 (ipykernel)",
   "language": "python",
   "name": "python3"
  },
  "language_info": {
   "codemirror_mode": {
    "name": "ipython",
    "version": 3
   },
   "file_extension": ".py",
   "mimetype": "text/x-python",
   "name": "python",
   "nbconvert_exporter": "python",
   "pygments_lexer": "ipython3",
   "version": "3.9.13"
  }
 },
 "nbformat": 4,
 "nbformat_minor": 5
}
